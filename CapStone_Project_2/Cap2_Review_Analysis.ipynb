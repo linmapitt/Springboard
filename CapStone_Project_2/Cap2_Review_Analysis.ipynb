{
 "cells": [
  {
   "cell_type": "code",
   "execution_count": 3,
   "metadata": {},
   "outputs": [],
   "source": [
    "import pandas as pd"
   ]
  },
  {
   "cell_type": "code",
   "execution_count": 4,
   "metadata": {},
   "outputs": [
    {
     "name": "stderr",
     "output_type": "stream",
     "text": [
      "c:\\users\\jijun\\appdata\\local\\continuum\\miniconda2\\lib\\site-packages\\IPython\\core\\interactiveshell.py:2714: DtypeWarning: Columns (0) have mixed types. Specify dtype option on import or set low_memory=False.\n",
      "  interactivity=interactivity, compiler=compiler, result=result)\n"
     ]
    }
   ],
   "source": [
    "rev_df_1 = pd.read_csv('C:/Users/jijun/Desktop/yelp_datasets/rev_dataframe_1.csv', sep='\\t')"
   ]
  },
  {
   "cell_type": "code",
   "execution_count": 5,
   "metadata": {},
   "outputs": [
    {
     "data": {
      "text/plain": [
       "(633633, 7)"
      ]
     },
     "execution_count": 5,
     "metadata": {},
     "output_type": "execute_result"
    }
   ],
   "source": [
    "rev_df_1.shape\n",
    "#res_df_1.head()"
   ]
  },
  {
   "cell_type": "code",
   "execution_count": 6,
   "metadata": {},
   "outputs": [],
   "source": [
    "rev_df_2 = pd.read_csv('C:/Users/jijun/Desktop/yelp_datasets/rev_dataframe_2.csv', sep='\\t')"
   ]
  },
  {
   "cell_type": "code",
   "execution_count": 7,
   "metadata": {},
   "outputs": [
    {
     "data": {
      "text/plain": [
       "(620133, 7)"
      ]
     },
     "execution_count": 7,
     "metadata": {},
     "output_type": "execute_result"
    }
   ],
   "source": [
    "rev_df_2.shape"
   ]
  },
  {
   "cell_type": "code",
   "execution_count": 8,
   "metadata": {},
   "outputs": [],
   "source": [
    "rev_df_3 = pd.read_csv('C:/Users/jijun/Desktop/yelp_datasets/rev_dataframe_3.csv', sep='\\t')"
   ]
  },
  {
   "cell_type": "code",
   "execution_count": 9,
   "metadata": {},
   "outputs": [
    {
     "data": {
      "text/plain": [
       "(634285, 7)"
      ]
     },
     "execution_count": 9,
     "metadata": {},
     "output_type": "execute_result"
    }
   ],
   "source": [
    "rev_df_3.shape"
   ]
  },
  {
   "cell_type": "code",
   "execution_count": 21,
   "metadata": {},
   "outputs": [],
   "source": [
    "#rev_final = pd.concat([rev_df_1, rev_df_2, rev_df_3])\n",
    "rev_final = rev_df_1.copy()"
   ]
  },
  {
   "cell_type": "code",
   "execution_count": 26,
   "metadata": {},
   "outputs": [
    {
     "data": {
      "text/html": [
       "<div>\n",
       "<style scoped>\n",
       "    .dataframe tbody tr th:only-of-type {\n",
       "        vertical-align: middle;\n",
       "    }\n",
       "\n",
       "    .dataframe tbody tr th {\n",
       "        vertical-align: top;\n",
       "    }\n",
       "\n",
       "    .dataframe thead th {\n",
       "        text-align: right;\n",
       "    }\n",
       "</style>\n",
       "<table border=\"1\" class=\"dataframe\">\n",
       "  <thead>\n",
       "    <tr style=\"text-align: right;\">\n",
       "      <th></th>\n",
       "      <th>Unnamed: 0</th>\n",
       "      <th>business_id</th>\n",
       "      <th>review_id</th>\n",
       "      <th>text</th>\n",
       "      <th>stars_x</th>\n",
       "      <th>stars_y</th>\n",
       "      <th>user_id</th>\n",
       "    </tr>\n",
       "  </thead>\n",
       "  <tbody>\n",
       "    <tr>\n",
       "      <th>0</th>\n",
       "      <td>0</td>\n",
       "      <td>ikCg8xy5JIg_NGPx-MSIDA</td>\n",
       "      <td>yi0R0Ugj_xUx_Nek0-_Qig</td>\n",
       "      <td>Went in for a lunch. Steak sandwich was delici...</td>\n",
       "      <td>5.0</td>\n",
       "      <td>3.0</td>\n",
       "      <td>dacAIZ6fTM6mqwW5uxkskg</td>\n",
       "    </tr>\n",
       "    <tr>\n",
       "      <th>1</th>\n",
       "      <td>1</td>\n",
       "      <td>ikCg8xy5JIg_NGPx-MSIDA</td>\n",
       "      <td>kSq_5yiDetNh-RRkvpB5Jw</td>\n",
       "      <td>Really one of dirtiest places to eat,not sure ...</td>\n",
       "      <td>1.0</td>\n",
       "      <td>3.0</td>\n",
       "      <td>eKyshoiTpZVF1_U4B9CHEg</td>\n",
       "    </tr>\n",
       "    <tr>\n",
       "      <th>2</th>\n",
       "      <td>2</td>\n",
       "      <td>ikCg8xy5JIg_NGPx-MSIDA</td>\n",
       "      <td>Lxm5nANkCytCtMrnzYscXg</td>\n",
       "      <td>Terrible place to eat and or drink, waitresses...</td>\n",
       "      <td>1.0</td>\n",
       "      <td>3.0</td>\n",
       "      <td>eKyshoiTpZVF1_U4B9CHEg</td>\n",
       "    </tr>\n",
       "    <tr>\n",
       "      <th>3</th>\n",
       "      <td>3</td>\n",
       "      <td>eU_713ec6fTGNO4BegRaww</td>\n",
       "      <td>fdiNeiN_hoCxCMy2wTRW9g</td>\n",
       "      <td>I'll be the first to admit that I was not exci...</td>\n",
       "      <td>4.0</td>\n",
       "      <td>3.5</td>\n",
       "      <td>w31MKYsNFMrjhWxxAb5wIw</td>\n",
       "    </tr>\n",
       "    <tr>\n",
       "      <th>4</th>\n",
       "      <td>4</td>\n",
       "      <td>eU_713ec6fTGNO4BegRaww</td>\n",
       "      <td>Ci7eLn5l1X1UTIe0COaCrA</td>\n",
       "      <td>One of the best Italian restaurants in a city ...</td>\n",
       "      <td>5.0</td>\n",
       "      <td>3.5</td>\n",
       "      <td>y0X59ZwPp89jVkceROxTtA</td>\n",
       "    </tr>\n",
       "  </tbody>\n",
       "</table>\n",
       "</div>"
      ],
      "text/plain": [
       "  Unnamed: 0             business_id               review_id  \\\n",
       "0          0  ikCg8xy5JIg_NGPx-MSIDA  yi0R0Ugj_xUx_Nek0-_Qig   \n",
       "1          1  ikCg8xy5JIg_NGPx-MSIDA  kSq_5yiDetNh-RRkvpB5Jw   \n",
       "2          2  ikCg8xy5JIg_NGPx-MSIDA  Lxm5nANkCytCtMrnzYscXg   \n",
       "3          3  eU_713ec6fTGNO4BegRaww  fdiNeiN_hoCxCMy2wTRW9g   \n",
       "4          4  eU_713ec6fTGNO4BegRaww  Ci7eLn5l1X1UTIe0COaCrA   \n",
       "\n",
       "                                                text  stars_x  stars_y  \\\n",
       "0  Went in for a lunch. Steak sandwich was delici...      5.0      3.0   \n",
       "1  Really one of dirtiest places to eat,not sure ...      1.0      3.0   \n",
       "2  Terrible place to eat and or drink, waitresses...      1.0      3.0   \n",
       "3  I'll be the first to admit that I was not exci...      4.0      3.5   \n",
       "4  One of the best Italian restaurants in a city ...      5.0      3.5   \n",
       "\n",
       "                  user_id  \n",
       "0  dacAIZ6fTM6mqwW5uxkskg  \n",
       "1  eKyshoiTpZVF1_U4B9CHEg  \n",
       "2  eKyshoiTpZVF1_U4B9CHEg  \n",
       "3  w31MKYsNFMrjhWxxAb5wIw  \n",
       "4  y0X59ZwPp89jVkceROxTtA  "
      ]
     },
     "execution_count": 26,
     "metadata": {},
     "output_type": "execute_result"
    }
   ],
   "source": [
    "rev_final.head()\n",
    "#rev_final.head(1)"
   ]
  },
  {
   "cell_type": "code",
   "execution_count": 23,
   "metadata": {},
   "outputs": [
    {
     "name": "stdout",
     "output_type": "stream",
     "text": [
      "<class 'pandas.core.frame.DataFrame'>\n",
      "RangeIndex: 633633 entries, 0 to 633632\n",
      "Data columns (total 7 columns):\n",
      "Unnamed: 0     633633 non-null object\n",
      "business_id    633631 non-null object\n",
      "review_id      633631 non-null object\n",
      "text           633631 non-null object\n",
      "stars_x        633629 non-null float64\n",
      "stars_y        633629 non-null float64\n",
      "user_id        633629 non-null object\n",
      "dtypes: float64(2), object(5)\n",
      "memory usage: 33.8+ MB\n"
     ]
    }
   ],
   "source": [
    "rev_final.info()"
   ]
  },
  {
   "cell_type": "code",
   "execution_count": 31,
   "metadata": {},
   "outputs": [
    {
     "data": {
      "text/plain": [
       "Unnamed: 0                                                     3\n",
       "business_id                               eU_713ec6fTGNO4BegRaww\n",
       "review_id                                 fdiNeiN_hoCxCMy2wTRW9g\n",
       "text           I'll be the first to admit that I was not exci...\n",
       "stars_x                                                        4\n",
       "stars_y                                                      3.5\n",
       "user_id                                   w31MKYsNFMrjhWxxAb5wIw\n",
       "Name: 3, dtype: object"
      ]
     },
     "execution_count": 31,
     "metadata": {},
     "output_type": "execute_result"
    }
   ],
   "source": [
    "rev_final.iloc[3,:]\n",
    "#rev_final.head(1)"
   ]
  },
  {
   "cell_type": "code",
   "execution_count": null,
   "metadata": {},
   "outputs": [],
   "source": []
  }
 ],
 "metadata": {
  "kernelspec": {
   "display_name": "Python 2",
   "language": "python",
   "name": "python2"
  },
  "language_info": {
   "codemirror_mode": {
    "name": "ipython",
    "version": 2
   },
   "file_extension": ".py",
   "mimetype": "text/x-python",
   "name": "python",
   "nbconvert_exporter": "python",
   "pygments_lexer": "ipython2",
   "version": "2.7.15"
  }
 },
 "nbformat": 4,
 "nbformat_minor": 2
}
