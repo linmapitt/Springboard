{
 "cells": [
  {
   "cell_type": "code",
   "execution_count": 1,
   "metadata": {},
   "outputs": [],
   "source": [
    "import pandas as pd\n",
    "import sqlite3\n",
    "sqlite_database = (\"database.sqlite\")\n",
    "connection = sqlite3.connect(sqlite_database) #create connection with sqlite database"
   ]
  },
  {
   "cell_type": "code",
   "execution_count": 10,
   "metadata": {},
   "outputs": [],
   "source": [
    "#retrieve data from Rate table, only limited to BusinessYear 2015, exclude Age as \"family option\" and individualrate 9999 9999.99\n",
    "rate_data_2015 = pd.read_sql(\"\"\"SELECT Distinct BusinessYear, StateCode, PlanId, RatingAreaId, Tobacco, Age, IndividualRate, IndividualTobaccoRate,\n",
    "                        Couple, PrimarySubscriberAndOneDependent, PrimarySubscriberAndTwoDependents, PrimarySubscriberAndThreeOrMoreDependents,\n",
    "                        CoupleAndOneDependent, CoupleAndTwoDependents, CoupleAndThreeOrMoreDependents\n",
    "                        FROM Rate r\n",
    "                        WHERE BusinessYear='2015' and Age !='Family Option' and IndividualRate !=9999  and IndividualRate !=9999.99;\"\"\", connection)"
   ]
  },
  {
   "cell_type": "code",
   "execution_count": 3,
   "metadata": {},
   "outputs": [],
   "source": [
    "#retrive data from PlanAttributes table, only limisted to BusinessYear 2015\n",
    "plan_data_2015 = pd.read_sql(\"\"\"SELECT Distinct *\n",
    "                        FROM PlanAttributes\n",
    "                        WHERE BusinessYear='2015';\"\"\", connection)"
   ]
  },
  {
   "cell_type": "code",
   "execution_count": 13,
   "metadata": {
    "scrolled": false
   },
   "outputs": [
    {
     "name": "stdout",
     "output_type": "stream",
     "text": [
      "(4560319, 15)\n",
      "<class 'pandas.core.frame.DataFrame'>\n",
      "RangeIndex: 4560319 entries, 0 to 4560318\n",
      "Data columns (total 15 columns):\n",
      "BusinessYear                                 int64\n",
      "StateCode                                    object\n",
      "PlanId                                       object\n",
      "RatingAreaId                                 object\n",
      "Tobacco                                      object\n",
      "Age                                          object\n",
      "IndividualRate                               float64\n",
      "IndividualTobaccoRate                        object\n",
      "Couple                                       object\n",
      "PrimarySubscriberAndOneDependent             object\n",
      "PrimarySubscriberAndTwoDependents            object\n",
      "PrimarySubscriberAndThreeOrMoreDependents    object\n",
      "CoupleAndOneDependent                        object\n",
      "CoupleAndTwoDependents                       object\n",
      "CoupleAndThreeOrMoreDependents               object\n",
      "dtypes: float64(1), int64(1), object(13)\n",
      "memory usage: 521.9+ MB\n",
      "None\n",
      "       BusinessYear  IndividualRate\n",
      "count     4560319.0    4.560319e+06\n",
      "mean         2015.0    2.995140e+02\n",
      "std             0.0    2.856261e+02\n",
      "min          2015.0    0.000000e+00\n",
      "25%          2015.0    2.815000e+01\n",
      "50%          2015.0    2.784000e+02\n",
      "75%          2015.0    4.566500e+02\n",
      "max          2015.0    2.084700e+03\n"
     ]
    }
   ],
   "source": [
    "#examine overview picture of rate data\n",
    "print(rate_data_2015.shape)\n",
    "print(rate_data_2015.info())\n",
    "print(rate_data_2015.describe()) #please note we still have some high individualrate as 2084.7"
   ]
  },
  {
   "cell_type": "code",
   "execution_count": 14,
   "metadata": {},
   "outputs": [
    {
     "name": "stdout",
     "output_type": "stream",
     "text": [
      "(31253, 176)\n",
      "<class 'pandas.core.frame.DataFrame'>\n",
      "RangeIndex: 31253 entries, 0 to 31252\n",
      "Columns: 176 entries, AVCalculatorOutputNumber to WellnessProgramOffered\n",
      "dtypes: int64(9), object(167)\n",
      "memory usage: 42.0+ MB\n",
      "None\n",
      "       BeginPrimaryCareCostSharingAfterNumberOfVisits  \\\n",
      "count                                    31253.000000   \n",
      "mean                                         0.108310   \n",
      "std                                          0.549437   \n",
      "min                                          0.000000   \n",
      "25%                                          0.000000   \n",
      "50%                                          0.000000   \n",
      "75%                                          0.000000   \n",
      "max                                          4.000000   \n",
      "\n",
      "       BeginPrimaryCareDeductibleCoinsuranceAfterNumberOfCopays  \\\n",
      "count                                       31253.000000          \n",
      "mean                                            0.435734          \n",
      "std                                             1.590785          \n",
      "min                                             0.000000          \n",
      "25%                                             0.000000          \n",
      "50%                                             0.000000          \n",
      "75%                                             0.000000          \n",
      "max                                            10.000000          \n",
      "\n",
      "       BenefitPackageId  BusinessYear  InpatientCopaymentMaximumDays  \\\n",
      "count      31253.000000       31253.0                   31253.000000   \n",
      "mean           5.325825        2015.0                       0.118133   \n",
      "std            7.043476           0.0                       0.681948   \n",
      "min            1.000000        2015.0                       0.000000   \n",
      "25%            1.000000        2015.0                       0.000000   \n",
      "50%            3.000000        2015.0                       0.000000   \n",
      "75%            7.000000        2015.0                       0.000000   \n",
      "max           84.000000        2015.0                       5.000000   \n",
      "\n",
      "           IssuerId     IssuerId2     RowNumber    VersionNum  \n",
      "count  31253.000000  31253.000000  31253.000000  31253.000000  \n",
      "mean   52064.974786  52064.974786     20.176655      7.463188  \n",
      "std    26132.346423  26132.346423     26.512836      3.675005  \n",
      "min    10064.000000  10064.000000      4.000000      1.000000  \n",
      "25%    31195.000000  31195.000000      6.000000      5.000000  \n",
      "50%    48129.000000  48129.000000      9.000000      7.000000  \n",
      "75%    75293.000000  75293.000000     22.000000      9.000000  \n",
      "max    99969.000000  99969.000000    223.000000     21.000000  \n"
     ]
    }
   ],
   "source": [
    "#examine overview picture of rate data\n",
    "print(plan_data_2015.shape)\n",
    "print(plan_data_2015.info())\n",
    "print(plan_data_2015.describe())"
   ]
  },
  {
   "cell_type": "code",
   "execution_count": 15,
   "metadata": {},
   "outputs": [],
   "source": [
    "#PlanId in plan_data_2015 has format of 73836AK0650002-01, need to only keep the part before hyphen\n",
    "plan_data_2015['PlanId']=plan_data_2015['PlanId'].str.split('-',expand=True)[0]"
   ]
  },
  {
   "cell_type": "code",
   "execution_count": 17,
   "metadata": {},
   "outputs": [
    {
     "name": "stdout",
     "output_type": "stream",
     "text": [
      "(10095, 2)\n",
      "            PlanId MetalLevel\n",
      "1   21989AK0030001       High\n",
      "3   38344AK1020001       High\n",
      "9   73836AK0710004     Silver\n",
      "14  58670AK0010001       High\n",
      "15  58670AK0010002        Low\n"
     ]
    }
   ],
   "source": [
    "#only retrieve the PlanId and MetalLevel columns from plan_data_2015, and remove duplicate rows\n",
    "plan_data=plan_data_2015[['PlanId','MetalLevel']]\n",
    "plan_data_nodup=plan_data.drop_duplicates(keep='last')\n",
    "print(plan_data_nodup.shape)\n",
    "print(plan_data_nodup.head())"
   ]
  },
  {
   "cell_type": "code",
   "execution_count": 18,
   "metadata": {},
   "outputs": [],
   "source": [
    "#merge two dataframe (rate_data_2015 and plan_data_nodup) into one dataframe\n",
    "df_final=pd.merge(rate_data_2015, plan_data_nodup, on='PlanId', how='left')"
   ]
  },
  {
   "cell_type": "code",
   "execution_count": 19,
   "metadata": {},
   "outputs": [
    {
     "name": "stdout",
     "output_type": "stream",
     "text": [
      "(4560319, 16)\n",
      "Silver          1049582\n",
      "Low              902399\n",
      "High             883890\n",
      "Gold             783656\n",
      "Bronze           677258\n",
      "Platinum         205804\n",
      "Catastrophic      57730\n",
      "Name: MetalLevel, dtype: int64\n"
     ]
    }
   ],
   "source": [
    "#display df_final\n",
    "print(df_final.shape)\n",
    "print(df_final['MetalLevel'].value_counts())"
   ]
  },
  {
   "cell_type": "code",
   "execution_count": 20,
   "metadata": {},
   "outputs": [],
   "source": [
    "def cat_age(age):\n",
    "    #this function will assign different group based on input age\n",
    "    if age =='0-20':\n",
    "        return 'Group A'\n",
    "    elif age in str(range(21,45)):\n",
    "        return 'Group B'\n",
    "    elif age in str(range(45, 65)):\n",
    "        return 'Group C'\n",
    "    else:\n",
    "        return 'Group D'\n"
   ]
  },
  {
   "cell_type": "code",
   "execution_count": 22,
   "metadata": {},
   "outputs": [
    {
     "name": "stdout",
     "output_type": "stream",
     "text": [
      "0-20           100909\n",
      "52              99098\n",
      "35              99098\n",
      "36              99098\n",
      "37              99098\n",
      "30              99098\n",
      "31              99098\n",
      "32              99098\n",
      "33              99098\n",
      "38              99098\n",
      "39              99098\n",
      "41              99098\n",
      "53              99098\n",
      "40              99098\n",
      "43              99098\n",
      "42              99098\n",
      "45              99098\n",
      "44              99098\n",
      "47              99098\n",
      "46              99098\n",
      "49              99098\n",
      "48              99098\n",
      "34              99098\n",
      "24              99098\n",
      "25              99098\n",
      "26              99098\n",
      "50              99098\n",
      "51              99098\n",
      "56              99098\n",
      "57              99098\n",
      "54              99098\n",
      "55              99098\n",
      "58              99098\n",
      "59              99098\n",
      "64              99098\n",
      "63              99098\n",
      "62              99098\n",
      "61              99098\n",
      "60              99098\n",
      "29              99098\n",
      "28              99098\n",
      "23              99098\n",
      "22              99098\n",
      "21              99098\n",
      "27              99098\n",
      "65 and over     99098\n",
      "Name: Age, dtype: int64\n"
     ]
    }
   ],
   "source": [
    "#add a new column called Age_Group, use cat_age function to assign age to different groups\n",
    "df_final['Age_Group']=df_final['Age'].apply(cat_age)"
   ]
  },
  {
   "cell_type": "code",
   "execution_count": 26,
   "metadata": {},
   "outputs": [
    {
     "name": "stdout",
     "output_type": "stream",
     "text": [
      "Group B    2378352\n",
      "Group C    1981960\n",
      "Group A     100909\n",
      "Group D      99098\n",
      "Name: Age_Group, dtype: int64\n",
      "<class 'pandas.core.frame.DataFrame'>\n",
      "Int64Index: 4560319 entries, 0 to 4560318\n",
      "Data columns (total 17 columns):\n",
      "BusinessYear                                 int64\n",
      "StateCode                                    object\n",
      "PlanId                                       object\n",
      "RatingAreaId                                 object\n",
      "Tobacco                                      object\n",
      "Age                                          object\n",
      "IndividualRate                               float64\n",
      "IndividualTobaccoRate                        object\n",
      "Couple                                       object\n",
      "PrimarySubscriberAndOneDependent             object\n",
      "PrimarySubscriberAndTwoDependents            object\n",
      "PrimarySubscriberAndThreeOrMoreDependents    object\n",
      "CoupleAndOneDependent                        object\n",
      "CoupleAndTwoDependents                       object\n",
      "CoupleAndThreeOrMoreDependents               object\n",
      "MetalLevel                                   object\n",
      "Age_Group                                    object\n",
      "dtypes: float64(1), int64(1), object(15)\n",
      "memory usage: 626.3+ MB\n",
      "None\n"
     ]
    }
   ],
   "source": [
    "#review df_final dataframe\n",
    "print(df_final['Age_Group'].value_counts())\n",
    "print(df_final.info())"
   ]
  }
 ],
 "metadata": {
  "kernelspec": {
   "display_name": "Python 2",
   "language": "python",
   "name": "python2"
  },
  "language_info": {
   "codemirror_mode": {
    "name": "ipython",
    "version": 2
   },
   "file_extension": ".py",
   "mimetype": "text/x-python",
   "name": "python",
   "nbconvert_exporter": "python",
   "pygments_lexer": "ipython2",
   "version": "2.7.15"
  }
 },
 "nbformat": 4,
 "nbformat_minor": 2
}
