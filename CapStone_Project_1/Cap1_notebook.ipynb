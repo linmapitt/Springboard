{
 "cells": [
  {
   "cell_type": "code",
   "execution_count": 1,
   "metadata": {},
   "outputs": [],
   "source": [
    "#Import pandas and sqlite3 modules\n",
    "import pandas as pd\n",
    "import sqlite3"
   ]
  },
  {
   "cell_type": "code",
   "execution_count": 2,
   "metadata": {},
   "outputs": [],
   "source": [
    "#Create connections to the SQLite database\n",
    "sqlite_database = (\"database.sqlite\")\n",
    "connection = sqlite3.connect(sqlite_database)"
   ]
  },
  {
   "cell_type": "code",
   "execution_count": 3,
   "metadata": {},
   "outputs": [],
   "source": [
    "#Retrieve data from Rate table\n",
    "#Limit data to BusinessYear 2015 only (Otherwise a memory error will occur)\n",
    "#Eclude Age with value of \"family option\" and individualrate with value of 9999 or 9999.99\n",
    "rate_data_2015 = pd.read_sql(\"\"\"SELECT Distinct \n",
    "                            BusinessYear, \n",
    "                            StateCode, \n",
    "                            PlanId, \n",
    "                            RatingAreaId, \n",
    "                            Tobacco, \n",
    "                            Age, \n",
    "                            IndividualRate, \n",
    "                            IndividualTobaccoRate,\n",
    "                            Couple, \n",
    "                            PrimarySubscriberAndOneDependent, \n",
    "                            PrimarySubscriberAndTwoDependents, \n",
    "                            PrimarySubscriberAndThreeOrMoreDependents,\n",
    "                            CoupleAndOneDependent, \n",
    "                            CoupleAndTwoDependents, \n",
    "                            CoupleAndThreeOrMoreDependents\n",
    "                            FROM Rate\n",
    "                            WHERE BusinessYear='2015' and \n",
    "                                  Age!='Family Option' and \n",
    "                                  IndividualRate!=9999 and \n",
    "                                  IndividualRate!=9999.99;\"\"\", connection)"
   ]
  },
  {
   "cell_type": "code",
   "execution_count": 4,
   "metadata": {
    "scrolled": false
   },
   "outputs": [
    {
     "data": {
      "text/plain": [
       "(4560319, 15)"
      ]
     },
     "execution_count": 4,
     "metadata": {},
     "output_type": "execute_result"
    }
   ],
   "source": [
    "#Display dimentionality of rate dataframe\n",
    "rate_data_2015.shape"
   ]
  },
  {
   "cell_type": "code",
   "execution_count": 5,
   "metadata": {},
   "outputs": [
    {
     "name": "stdout",
     "output_type": "stream",
     "text": [
      "<class 'pandas.core.frame.DataFrame'>\n",
      "RangeIndex: 4560319 entries, 0 to 4560318\n",
      "Data columns (total 15 columns):\n",
      "BusinessYear                                 int64\n",
      "StateCode                                    object\n",
      "PlanId                                       object\n",
      "RatingAreaId                                 object\n",
      "Tobacco                                      object\n",
      "Age                                          object\n",
      "IndividualRate                               float64\n",
      "IndividualTobaccoRate                        object\n",
      "Couple                                       object\n",
      "PrimarySubscriberAndOneDependent             object\n",
      "PrimarySubscriberAndTwoDependents            object\n",
      "PrimarySubscriberAndThreeOrMoreDependents    object\n",
      "CoupleAndOneDependent                        object\n",
      "CoupleAndTwoDependents                       object\n",
      "CoupleAndThreeOrMoreDependents               object\n",
      "dtypes: float64(1), int64(1), object(13)\n",
      "memory usage: 521.9+ MB\n"
     ]
    }
   ],
   "source": [
    "#Try to browse the dataframe to see if some columns have null values\n",
    "rate_data_2015.info(verbose=True)"
   ]
  },
  {
   "cell_type": "code",
   "execution_count": 6,
   "metadata": {},
   "outputs": [
    {
     "data": {
      "text/html": [
       "<div>\n",
       "<style scoped>\n",
       "    .dataframe tbody tr th:only-of-type {\n",
       "        vertical-align: middle;\n",
       "    }\n",
       "\n",
       "    .dataframe tbody tr th {\n",
       "        vertical-align: top;\n",
       "    }\n",
       "\n",
       "    .dataframe thead th {\n",
       "        text-align: right;\n",
       "    }\n",
       "</style>\n",
       "<table border=\"1\" class=\"dataframe\">\n",
       "  <thead>\n",
       "    <tr style=\"text-align: right;\">\n",
       "      <th></th>\n",
       "      <th>BusinessYear</th>\n",
       "      <th>IndividualRate</th>\n",
       "    </tr>\n",
       "  </thead>\n",
       "  <tbody>\n",
       "    <tr>\n",
       "      <th>count</th>\n",
       "      <td>4560319.0</td>\n",
       "      <td>4.560319e+06</td>\n",
       "    </tr>\n",
       "    <tr>\n",
       "      <th>mean</th>\n",
       "      <td>2015.0</td>\n",
       "      <td>2.995140e+02</td>\n",
       "    </tr>\n",
       "    <tr>\n",
       "      <th>std</th>\n",
       "      <td>0.0</td>\n",
       "      <td>2.856261e+02</td>\n",
       "    </tr>\n",
       "    <tr>\n",
       "      <th>min</th>\n",
       "      <td>2015.0</td>\n",
       "      <td>0.000000e+00</td>\n",
       "    </tr>\n",
       "    <tr>\n",
       "      <th>25%</th>\n",
       "      <td>2015.0</td>\n",
       "      <td>2.815000e+01</td>\n",
       "    </tr>\n",
       "    <tr>\n",
       "      <th>50%</th>\n",
       "      <td>2015.0</td>\n",
       "      <td>2.784000e+02</td>\n",
       "    </tr>\n",
       "    <tr>\n",
       "      <th>75%</th>\n",
       "      <td>2015.0</td>\n",
       "      <td>4.566500e+02</td>\n",
       "    </tr>\n",
       "    <tr>\n",
       "      <th>max</th>\n",
       "      <td>2015.0</td>\n",
       "      <td>2.084700e+03</td>\n",
       "    </tr>\n",
       "  </tbody>\n",
       "</table>\n",
       "</div>"
      ],
      "text/plain": [
       "       BusinessYear  IndividualRate\n",
       "count     4560319.0    4.560319e+06\n",
       "mean         2015.0    2.995140e+02\n",
       "std             0.0    2.856261e+02\n",
       "min          2015.0    0.000000e+00\n",
       "25%          2015.0    2.815000e+01\n",
       "50%          2015.0    2.784000e+02\n",
       "75%          2015.0    4.566500e+02\n",
       "max          2015.0    2.084700e+03"
      ]
     },
     "execution_count": 6,
     "metadata": {},
     "output_type": "execute_result"
    }
   ],
   "source": [
    "#Generates descriptive statistics for rate dataframe\n",
    "rate_data_2015.describe()"
   ]
  },
  {
   "cell_type": "code",
   "execution_count": 7,
   "metadata": {},
   "outputs": [],
   "source": [
    "#Retrive data from PlanAttributes table\n",
    "#Limit data to BusinessYear 2015 only\n",
    "#Include individual cost limt for EHB\n",
    "plan_data_2015 = pd.read_sql(\"\"\"SELECT Distinct \n",
    "                            PlanId,\n",
    "                            MetalLevel,\n",
    "                            TEHBInnTier1IndividualMOOP,\n",
    "                            TEHBInnTier2IndividualMOOP,\n",
    "                            TEHBOutOfNetIndividualMOOP,\n",
    "                            TEHBDedInnTier1Individual,\n",
    "                            TEHBDedInnTier2Individual,\n",
    "                            TEHBDedOutOfNetIndividual\n",
    "                            FROM PlanAttributes\n",
    "                            WHERE BusinessYear='2015';\"\"\", connection)"
   ]
  },
  {
   "cell_type": "code",
   "execution_count": 8,
   "metadata": {},
   "outputs": [
    {
     "data": {
      "text/plain": [
       "(31253, 8)"
      ]
     },
     "execution_count": 8,
     "metadata": {},
     "output_type": "execute_result"
    }
   ],
   "source": [
    "#Display dimentionality of plan dataframe\n",
    "plan_data_2015.shape"
   ]
  },
  {
   "cell_type": "code",
   "execution_count": 9,
   "metadata": {},
   "outputs": [
    {
     "name": "stdout",
     "output_type": "stream",
     "text": [
      "<class 'pandas.core.frame.DataFrame'>\n",
      "RangeIndex: 31253 entries, 0 to 31252\n",
      "Data columns (total 8 columns):\n",
      "PlanId                        31253 non-null object\n",
      "MetalLevel                    31253 non-null object\n",
      "TEHBInnTier1IndividualMOOP    31253 non-null object\n",
      "TEHBInnTier2IndividualMOOP    31253 non-null object\n",
      "TEHBOutOfNetIndividualMOOP    31253 non-null object\n",
      "TEHBDedInnTier1Individual     31253 non-null object\n",
      "TEHBDedInnTier2Individual     31253 non-null object\n",
      "TEHBDedOutOfNetIndividual     31253 non-null object\n",
      "dtypes: object(8)\n",
      "memory usage: 1.9+ MB\n"
     ]
    }
   ],
   "source": [
    "#Try to browse the plan dataframe to see if some columns have null values\n",
    "plan_data_2015.info(verbose=True)"
   ]
  },
  {
   "cell_type": "code",
   "execution_count": 10,
   "metadata": {},
   "outputs": [
    {
     "data": {
      "text/html": [
       "<div>\n",
       "<style scoped>\n",
       "    .dataframe tbody tr th:only-of-type {\n",
       "        vertical-align: middle;\n",
       "    }\n",
       "\n",
       "    .dataframe tbody tr th {\n",
       "        vertical-align: top;\n",
       "    }\n",
       "\n",
       "    .dataframe thead th {\n",
       "        text-align: right;\n",
       "    }\n",
       "</style>\n",
       "<table border=\"1\" class=\"dataframe\">\n",
       "  <thead>\n",
       "    <tr style=\"text-align: right;\">\n",
       "      <th></th>\n",
       "      <th>PlanId</th>\n",
       "      <th>MetalLevel</th>\n",
       "      <th>TEHBInnTier1IndividualMOOP</th>\n",
       "      <th>TEHBInnTier2IndividualMOOP</th>\n",
       "      <th>TEHBOutOfNetIndividualMOOP</th>\n",
       "      <th>TEHBDedInnTier1Individual</th>\n",
       "      <th>TEHBDedInnTier2Individual</th>\n",
       "      <th>TEHBDedOutOfNetIndividual</th>\n",
       "    </tr>\n",
       "  </thead>\n",
       "  <tbody>\n",
       "    <tr>\n",
       "      <th>count</th>\n",
       "      <td>31253</td>\n",
       "      <td>31253</td>\n",
       "      <td>31253</td>\n",
       "      <td>31253</td>\n",
       "      <td>31253</td>\n",
       "      <td>31253</td>\n",
       "      <td>31253</td>\n",
       "      <td>31253</td>\n",
       "    </tr>\n",
       "    <tr>\n",
       "      <th>unique</th>\n",
       "      <td>31253</td>\n",
       "      <td>7</td>\n",
       "      <td>153</td>\n",
       "      <td>79</td>\n",
       "      <td>148</td>\n",
       "      <td>142</td>\n",
       "      <td>74</td>\n",
       "      <td>119</td>\n",
       "    </tr>\n",
       "    <tr>\n",
       "      <th>top</th>\n",
       "      <td>35065IN0030007-02</td>\n",
       "      <td>Silver</td>\n",
       "      <td></td>\n",
       "      <td></td>\n",
       "      <td>Not Applicable</td>\n",
       "      <td></td>\n",
       "      <td></td>\n",
       "      <td></td>\n",
       "    </tr>\n",
       "    <tr>\n",
       "      <th>freq</th>\n",
       "      <td>1</td>\n",
       "      <td>13021</td>\n",
       "      <td>4506</td>\n",
       "      <td>29185</td>\n",
       "      <td>12559</td>\n",
       "      <td>15757</td>\n",
       "      <td>29778</td>\n",
       "      <td>15757</td>\n",
       "    </tr>\n",
       "  </tbody>\n",
       "</table>\n",
       "</div>"
      ],
      "text/plain": [
       "                   PlanId MetalLevel TEHBInnTier1IndividualMOOP  \\\n",
       "count               31253      31253                      31253   \n",
       "unique              31253          7                        153   \n",
       "top     35065IN0030007-02     Silver                              \n",
       "freq                    1      13021                       4506   \n",
       "\n",
       "       TEHBInnTier2IndividualMOOP TEHBOutOfNetIndividualMOOP  \\\n",
       "count                       31253                      31253   \n",
       "unique                         79                        148   \n",
       "top                                           Not Applicable   \n",
       "freq                        29185                      12559   \n",
       "\n",
       "       TEHBDedInnTier1Individual TEHBDedInnTier2Individual  \\\n",
       "count                      31253                     31253   \n",
       "unique                       142                        74   \n",
       "top                                                          \n",
       "freq                       15757                     29778   \n",
       "\n",
       "       TEHBDedOutOfNetIndividual  \n",
       "count                      31253  \n",
       "unique                       119  \n",
       "top                               \n",
       "freq                       15757  "
      ]
     },
     "execution_count": 10,
     "metadata": {},
     "output_type": "execute_result"
    }
   ],
   "source": [
    "#Generates descriptive statistics for plan dataframe\n",
    "plan_data_2015.describe()"
   ]
  },
  {
   "cell_type": "code",
   "execution_count": 11,
   "metadata": {},
   "outputs": [
    {
     "data": {
      "text/html": [
       "<div>\n",
       "<style scoped>\n",
       "    .dataframe tbody tr th:only-of-type {\n",
       "        vertical-align: middle;\n",
       "    }\n",
       "\n",
       "    .dataframe tbody tr th {\n",
       "        vertical-align: top;\n",
       "    }\n",
       "\n",
       "    .dataframe thead th {\n",
       "        text-align: right;\n",
       "    }\n",
       "</style>\n",
       "<table border=\"1\" class=\"dataframe\">\n",
       "  <thead>\n",
       "    <tr style=\"text-align: right;\">\n",
       "      <th></th>\n",
       "      <th>PlanId</th>\n",
       "      <th>MetalLevel</th>\n",
       "      <th>TEHBInnTier1IndividualMOOP</th>\n",
       "      <th>TEHBInnTier2IndividualMOOP</th>\n",
       "      <th>TEHBOutOfNetIndividualMOOP</th>\n",
       "      <th>TEHBDedInnTier1Individual</th>\n",
       "      <th>TEHBDedInnTier2Individual</th>\n",
       "      <th>TEHBDedOutOfNetIndividual</th>\n",
       "    </tr>\n",
       "  </thead>\n",
       "  <tbody>\n",
       "    <tr>\n",
       "      <th>0</th>\n",
       "      <td>21989AK0030001-00</td>\n",
       "      <td>High</td>\n",
       "      <td></td>\n",
       "      <td></td>\n",
       "      <td></td>\n",
       "      <td></td>\n",
       "      <td></td>\n",
       "      <td></td>\n",
       "    </tr>\n",
       "    <tr>\n",
       "      <th>1</th>\n",
       "      <td>21989AK0030001-01</td>\n",
       "      <td>High</td>\n",
       "      <td></td>\n",
       "      <td></td>\n",
       "      <td></td>\n",
       "      <td></td>\n",
       "      <td></td>\n",
       "      <td></td>\n",
       "    </tr>\n",
       "    <tr>\n",
       "      <th>2</th>\n",
       "      <td>38344AK1020001-00</td>\n",
       "      <td>High</td>\n",
       "      <td></td>\n",
       "      <td></td>\n",
       "      <td></td>\n",
       "      <td></td>\n",
       "      <td></td>\n",
       "      <td></td>\n",
       "    </tr>\n",
       "    <tr>\n",
       "      <th>3</th>\n",
       "      <td>38344AK1020001-01</td>\n",
       "      <td>High</td>\n",
       "      <td></td>\n",
       "      <td></td>\n",
       "      <td></td>\n",
       "      <td></td>\n",
       "      <td></td>\n",
       "      <td></td>\n",
       "    </tr>\n",
       "    <tr>\n",
       "      <th>4</th>\n",
       "      <td>73836AK0750002-01</td>\n",
       "      <td>Gold</td>\n",
       "      <td>$4,750</td>\n",
       "      <td></td>\n",
       "      <td>$9,500</td>\n",
       "      <td>$750</td>\n",
       "      <td></td>\n",
       "      <td>$1,500</td>\n",
       "    </tr>\n",
       "    <tr>\n",
       "      <th>5</th>\n",
       "      <td>73836AK0710006-01</td>\n",
       "      <td>Silver</td>\n",
       "      <td>$6,600</td>\n",
       "      <td></td>\n",
       "      <td>$13,200</td>\n",
       "      <td>$2,000</td>\n",
       "      <td></td>\n",
       "      <td>$4,000</td>\n",
       "    </tr>\n",
       "    <tr>\n",
       "      <th>6</th>\n",
       "      <td>73836AK0710004-00</td>\n",
       "      <td>Silver</td>\n",
       "      <td>$6,600</td>\n",
       "      <td></td>\n",
       "      <td>$13,200</td>\n",
       "      <td>$4,000</td>\n",
       "      <td></td>\n",
       "      <td>$8,000</td>\n",
       "    </tr>\n",
       "    <tr>\n",
       "      <th>7</th>\n",
       "      <td>73836AK0750003-06</td>\n",
       "      <td>Silver</td>\n",
       "      <td>$500</td>\n",
       "      <td></td>\n",
       "      <td>$13,200</td>\n",
       "      <td>$100</td>\n",
       "      <td></td>\n",
       "      <td>$2,700</td>\n",
       "    </tr>\n",
       "    <tr>\n",
       "      <th>8</th>\n",
       "      <td>73836AK0750004-00</td>\n",
       "      <td>Silver</td>\n",
       "      <td>$6,600</td>\n",
       "      <td></td>\n",
       "      <td>$13,200</td>\n",
       "      <td>$1,350</td>\n",
       "      <td></td>\n",
       "      <td>$2,700</td>\n",
       "    </tr>\n",
       "    <tr>\n",
       "      <th>9</th>\n",
       "      <td>73836AK0710004-01</td>\n",
       "      <td>Silver</td>\n",
       "      <td>$6,600</td>\n",
       "      <td></td>\n",
       "      <td>$13,200</td>\n",
       "      <td>$4,000</td>\n",
       "      <td></td>\n",
       "      <td>$8,000</td>\n",
       "    </tr>\n",
       "  </tbody>\n",
       "</table>\n",
       "</div>"
      ],
      "text/plain": [
       "              PlanId MetalLevel TEHBInnTier1IndividualMOOP  \\\n",
       "0  21989AK0030001-00       High                              \n",
       "1  21989AK0030001-01       High                              \n",
       "2  38344AK1020001-00       High                              \n",
       "3  38344AK1020001-01       High                              \n",
       "4  73836AK0750002-01       Gold                     $4,750   \n",
       "5  73836AK0710006-01     Silver                     $6,600   \n",
       "6  73836AK0710004-00     Silver                     $6,600   \n",
       "7  73836AK0750003-06     Silver                       $500   \n",
       "8  73836AK0750004-00     Silver                     $6,600   \n",
       "9  73836AK0710004-01     Silver                     $6,600   \n",
       "\n",
       "  TEHBInnTier2IndividualMOOP TEHBOutOfNetIndividualMOOP  \\\n",
       "0                                                         \n",
       "1                                                         \n",
       "2                                                         \n",
       "3                                                         \n",
       "4                                                $9,500   \n",
       "5                                               $13,200   \n",
       "6                                               $13,200   \n",
       "7                                               $13,200   \n",
       "8                                               $13,200   \n",
       "9                                               $13,200   \n",
       "\n",
       "  TEHBDedInnTier1Individual TEHBDedInnTier2Individual  \\\n",
       "0                                                       \n",
       "1                                                       \n",
       "2                                                       \n",
       "3                                                       \n",
       "4                      $750                             \n",
       "5                    $2,000                             \n",
       "6                    $4,000                             \n",
       "7                      $100                             \n",
       "8                    $1,350                             \n",
       "9                    $4,000                             \n",
       "\n",
       "  TEHBDedOutOfNetIndividual  \n",
       "0                            \n",
       "1                            \n",
       "2                            \n",
       "3                            \n",
       "4                    $1,500  \n",
       "5                    $4,000  \n",
       "6                    $8,000  \n",
       "7                    $2,700  \n",
       "8                    $2,700  \n",
       "9                    $8,000  "
      ]
     },
     "execution_count": 11,
     "metadata": {},
     "output_type": "execute_result"
    }
   ],
   "source": [
    "#Display the first 10 rows of Plan data\n",
    "#Column 2 to 7 have numbers with $ as prefix. Needs to remove $ and change them to integers.\n",
    "plan_data_2015.head(10)"
   ]
  },
  {
   "cell_type": "code",
   "execution_count": 12,
   "metadata": {},
   "outputs": [
    {
     "data": {
      "text/plain": [
       "0         \n",
       "1         \n",
       "2         \n",
       "3         \n",
       "4    4,750\n",
       "5    6,600\n",
       "6    6,600\n",
       "7      500\n",
       "8    6,600\n",
       "9    6,600\n",
       "Name: TEHBInnTier1IndividualMOOP, dtype: object"
      ]
     },
     "execution_count": 12,
     "metadata": {},
     "output_type": "execute_result"
    }
   ],
   "source": [
    "#Remove $ sign for column TEHBInnTier1IndividualMOOP\n",
    "plan_data_2015.TEHBInnTier1IndividualMOOP = [x.strip('$') for x in plan_data_2015.TEHBInnTier1IndividualMOOP]\n",
    "plan_data_2015.TEHBInnTier1IndividualMOOP.head(10)"
   ]
  },
  {
   "cell_type": "code",
   "execution_count": 21,
   "metadata": {},
   "outputs": [
    {
     "data": {
      "text/plain": [
       "0        \n",
       "1        \n",
       "2        \n",
       "3        \n",
       "4    4750\n",
       "5    6600\n",
       "6    6600\n",
       "7     500\n",
       "8    6600\n",
       "9    6600\n",
       "Name: TEHBInnTier1IndividualMOOP, dtype: object"
      ]
     },
     "execution_count": 21,
     "metadata": {},
     "output_type": "execute_result"
    }
   ],
   "source": [
    "#Remove , in the numbers for column TEHBInnTier1IndividualMOOP\n",
    "plan_data_2015.TEHBInnTier1IndividualMOOP= [x.replace(',' , '') for x in plan_data_2015.TEHBInnTier1IndividualMOOP]\n",
    "plan_data_2015.TEHBInnTier1IndividualMOOP.head(10)"
   ]
  }
 ],
 "metadata": {
  "kernelspec": {
   "display_name": "Python 2",
   "language": "python",
   "name": "python2"
  },
  "language_info": {
   "codemirror_mode": {
    "name": "ipython",
    "version": 2
   },
   "file_extension": ".py",
   "mimetype": "text/x-python",
   "name": "python",
   "nbconvert_exporter": "python",
   "pygments_lexer": "ipython2",
   "version": "2.7.15"
  }
 },
 "nbformat": 4,
 "nbformat_minor": 2
}
