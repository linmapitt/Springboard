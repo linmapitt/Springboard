{
 "cells": [
  {
   "cell_type": "code",
   "execution_count": 1,
   "metadata": {},
   "outputs": [],
   "source": [
    "import pandas as pd\n",
    "import numpy as np\n",
    "import scipy.stats as stats\n",
    "from sklearn.metrics import mean_squared_error\n",
    "from sklearn.ensemble import GradientBoostingRegressor\n",
    "from sklearn.model_selection import train_test_split "
   ]
  },
  {
   "cell_type": "code",
   "execution_count": 56,
   "metadata": {},
   "outputs": [],
   "source": [
    "class InsurancePrediction():\n",
    "    df = pd.read_csv('data_cap1_all_states.csv', sep=',', index_col=0)\n",
    "    \n",
    "    def __init__(self):\n",
    "        self.model_dict = {}\n",
    "        for state_code in InsurancePrediction.df['StateCode'].unique():\n",
    "            self.model_dict[state_code] = InsurancePrediction.build_models(state_code)\n",
    "            \n",
    "        \n",
    "    @staticmethod\n",
    "    def build_models(statename):\n",
    "        rlist = []\n",
    "        df_state = InsurancePrediction.df[InsurancePrediction.df.StateCode ==statename].copy();\n",
    "        reg = GradientBoostingRegressor(n_estimators=100);\n",
    "        X = df_state.drop(['StateCode', 'RatingAreaId', 'MetalLevel','IndividualRate'], axis=1);\n",
    "        y = df_state['IndividualRate'];\n",
    "        X_train, X_test, y_train, y_test = train_test_split(X, y, test_size = 0.2, random_state=123);\n",
    "        reg.fit(X_train, y_train);\n",
    "        y_pred = reg.predict(X_test)\n",
    "        \n",
    "        rlist.append(reg.score(X_test, y_test))\n",
    "        rlist.append(np.sqrt(mean_squared_error(y_test, y_pred)))\n",
    "        return rlist\n",
    "        \n",
    "    def print_results(self, statename):\n",
    "        print(self.model_dict[statename])\n",
    "    "
   ]
  },
  {
   "cell_type": "code",
   "execution_count": 58,
   "metadata": {},
   "outputs": [],
   "source": [
    "obj = InsurancePrediction()"
   ]
  },
  {
   "cell_type": "code",
   "execution_count": 59,
   "metadata": {},
   "outputs": [
    {
     "data": {
      "text/plain": [
       "{'AK': [0.9452196628291427, 0.09822735319817374],\n",
       " 'AL': [0.9691416903882091, 0.0779930795540588],\n",
       " 'AR': [0.9594272544058763, 0.08618060718030245],\n",
       " 'AZ': [0.9088708719137305, 0.13844623222706462],\n",
       " 'DE': [0.921852128103753, 0.1183550650992616],\n",
       " 'FL': [0.9321654611574492, 0.11341857035231931],\n",
       " 'GA': [0.8794160354122893, 0.158034060478418],\n",
       " 'IA': [0.9224844424845494, 0.1280301529173544],\n",
       " 'IL': [0.8540998505109164, 0.17946503210536094],\n",
       " 'IN': [0.8807660660713934, 0.1559487580708624],\n",
       " 'KS': [0.9503461039079804, 0.09339627310875262],\n",
       " 'LA': [0.9579273520227245, 0.09119607203386287],\n",
       " 'ME': [0.949064317057248, 0.10280527958898905],\n",
       " 'MI': [0.8907782638188866, 0.14520805724697028],\n",
       " 'MO': [0.951747823863323, 0.095354824950992],\n",
       " 'MS': [0.9382972945227217, 0.10897534572024607],\n",
       " 'MT': [0.9373917905285103, 0.10770286735152135],\n",
       " 'NC': [0.9333933423187382, 0.11757012432109254],\n",
       " 'ND': [0.9600266069806969, 0.08432115596372307],\n",
       " 'NE': [0.8776263458135725, 0.17103758385158793],\n",
       " 'NH': [0.904343770989346, 0.13628960156036637],\n",
       " 'NJ': [0.8826790537913756, 0.11674437855301378],\n",
       " 'NM': [0.8973317987777069, 0.1438696221435894],\n",
       " 'NV': [0.8527794878608657, 0.16943495242137732],\n",
       " 'OH': [0.8938421073377222, 0.15092955486191473],\n",
       " 'OK': [0.9013624177603153, 0.1492082598143059],\n",
       " 'OR': [0.9411592974317722, 0.10555909316769073],\n",
       " 'PA': [0.8420331530371914, 0.19233756394855056],\n",
       " 'SC': [0.8814845298511488, 0.15227399524699586],\n",
       " 'SD': [0.9558156454218804, 0.0910961813401161],\n",
       " 'TN': [0.8649639841065226, 0.18828269455222804],\n",
       " 'TX': [0.803462639750135, 0.2134523769194984],\n",
       " 'UT': [0.9602673017005723, 0.07809201766595913],\n",
       " 'VA': [0.9425507965731427, 0.10564282768665467],\n",
       " 'WI': [0.9097505197016326, 0.13517531447176095],\n",
       " 'WV': [0.911051115677297, 0.1366530515277721],\n",
       " 'WY': [0.9787343602668468, 0.05912899398859178]}"
      ]
     },
     "execution_count": 59,
     "metadata": {},
     "output_type": "execute_result"
    }
   ],
   "source": [
    "obj.model_dict"
   ]
  },
  {
   "cell_type": "code",
   "execution_count": 60,
   "metadata": {},
   "outputs": [
    {
     "name": "stdout",
     "output_type": "stream",
     "text": [
      "[0.9321654611574492, 0.11341857035231931]\n"
     ]
    }
   ],
   "source": [
    "obj.print_results('FL')"
   ]
  }
 ],
 "metadata": {
  "kernelspec": {
   "display_name": "Python 2",
   "language": "python",
   "name": "python2"
  },
  "language_info": {
   "codemirror_mode": {
    "name": "ipython",
    "version": 2
   },
   "file_extension": ".py",
   "mimetype": "text/x-python",
   "name": "python",
   "nbconvert_exporter": "python",
   "pygments_lexer": "ipython2",
   "version": "2.7.15"
  }
 },
 "nbformat": 4,
 "nbformat_minor": 2
}
