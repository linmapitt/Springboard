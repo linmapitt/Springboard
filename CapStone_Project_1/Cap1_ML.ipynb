{
 "cells": [
  {
   "cell_type": "code",
   "execution_count": 1,
   "metadata": {},
   "outputs": [
    {
     "name": "stdout",
     "output_type": "stream",
     "text": [
      "<class 'pandas.core.frame.DataFrame'>\n",
      "RangeIndex: 2774030 entries, 0 to 2774029\n",
      "Data columns (total 18 columns):\n",
      "Unnamed: 0                                   int64\n",
      "BusinessYear                                 int64\n",
      "StateCode                                    object\n",
      "PlanId                                       object\n",
      "RatingAreaId                                 object\n",
      "Tobacco                                      object\n",
      "Age                                          object\n",
      "IndividualRate                               float64\n",
      "IndividualTobaccoRate                        float64\n",
      "Couple                                       float64\n",
      "PrimarySubscriberAndOneDependent             float64\n",
      "PrimarySubscriberAndTwoDependents            float64\n",
      "PrimarySubscriberAndThreeOrMoreDependents    float64\n",
      "CoupleAndOneDependent                        float64\n",
      "CoupleAndTwoDependents                       float64\n",
      "CoupleAndThreeOrMoreDependents               float64\n",
      "PlanIdNew                                    object\n",
      "MetalLevel                                   object\n",
      "dtypes: float64(9), int64(2), object(7)\n",
      "memory usage: 381.0+ MB\n"
     ]
    }
   ],
   "source": [
    "# Machine Learning for Cap Stone 1 \n",
    "# Load data saved from Cap1 EDA\n",
    "import pandas as pd\n",
    "df = pd.read_csv('data_cap1_ml.csv', sep=',', header=0)\n",
    "df.info()"
   ]
  },
  {
   "cell_type": "code",
   "execution_count": 2,
   "metadata": {},
   "outputs": [
    {
     "data": {
      "text/plain": [
       "52             60305\n",
       "0-20           60305\n",
       "35             60305\n",
       "36             60305\n",
       "37             60305\n",
       "30             60305\n",
       "31             60305\n",
       "32             60305\n",
       "33             60305\n",
       "38             60305\n",
       "39             60305\n",
       "41             60305\n",
       "53             60305\n",
       "40             60305\n",
       "43             60305\n",
       "42             60305\n",
       "45             60305\n",
       "44             60305\n",
       "47             60305\n",
       "46             60305\n",
       "49             60305\n",
       "48             60305\n",
       "34             60305\n",
       "24             60305\n",
       "25             60305\n",
       "26             60305\n",
       "50             60305\n",
       "51             60305\n",
       "56             60305\n",
       "57             60305\n",
       "54             60305\n",
       "55             60305\n",
       "58             60305\n",
       "59             60305\n",
       "64             60305\n",
       "63             60305\n",
       "62             60305\n",
       "61             60305\n",
       "60             60305\n",
       "29             60305\n",
       "28             60305\n",
       "23             60305\n",
       "22             60305\n",
       "21             60305\n",
       "27             60305\n",
       "65 and over    60305\n",
       "Name: Age, dtype: int64"
      ]
     },
     "execution_count": 2,
     "metadata": {},
     "output_type": "execute_result"
    }
   ],
   "source": [
    "# Exam how many people for each age\n",
    "df['Age'].value_counts()"
   ]
  },
  {
   "cell_type": "code",
   "execution_count": 3,
   "metadata": {},
   "outputs": [],
   "source": [
    "# Only retrieve 5 columns from df dataframe\n",
    "\n",
    "df_new = df[['StateCode', 'RatingAreaId', 'Age','MetalLevel','IndividualRate']]"
   ]
  },
  {
   "cell_type": "code",
   "execution_count": 4,
   "metadata": {},
   "outputs": [],
   "source": [
    "# Only look at data for AK state\n",
    "\n",
    "df_AK = df_new[df_new.StateCode =='AK']"
   ]
  },
  {
   "cell_type": "code",
   "execution_count": 5,
   "metadata": {},
   "outputs": [
    {
     "name": "stderr",
     "output_type": "stream",
     "text": [
      "c:\\users\\jijun\\appdata\\local\\continuum\\miniconda2\\lib\\site-packages\\ipykernel_launcher.py:4: SettingWithCopyWarning: \n",
      "A value is trying to be set on a copy of a slice from a DataFrame.\n",
      "Try using .loc[row_indexer,col_indexer] = value instead\n",
      "\n",
      "See the caveats in the documentation: http://pandas.pydata.org/pandas-docs/stable/indexing.html#indexing-view-versus-copy\n",
      "  after removing the cwd from sys.path.\n",
      "c:\\users\\jijun\\appdata\\local\\continuum\\miniconda2\\lib\\site-packages\\ipykernel_launcher.py:5: SettingWithCopyWarning: \n",
      "A value is trying to be set on a copy of a slice from a DataFrame.\n",
      "Try using .loc[row_indexer,col_indexer] = value instead\n",
      "\n",
      "See the caveats in the documentation: http://pandas.pydata.org/pandas-docs/stable/indexing.html#indexing-view-versus-copy\n",
      "  \"\"\"\n",
      "c:\\users\\jijun\\appdata\\local\\continuum\\miniconda2\\lib\\site-packages\\ipykernel_launcher.py:6: SettingWithCopyWarning: \n",
      "A value is trying to be set on a copy of a slice from a DataFrame.\n",
      "Try using .loc[row_indexer,col_indexer] = value instead\n",
      "\n",
      "See the caveats in the documentation: http://pandas.pydata.org/pandas-docs/stable/indexing.html#indexing-view-versus-copy\n",
      "  \n"
     ]
    }
   ],
   "source": [
    "# change '0-20' to 20, '65 and above' to 65\n",
    "# Change the Age column to int type\n",
    "df_AK['Age'].value_counts()\n",
    "df_AK['Age'] = df_AK['Age'].str.replace('0-20','20')\n",
    "df_AK['Age'] = df_AK['Age'].str.replace('65 and over','65')\n",
    "df_AK['Age'] = pd.to_numeric(df_AK['Age'])"
   ]
  },
  {
   "cell_type": "code",
   "execution_count": 6,
   "metadata": {},
   "outputs": [
    {
     "name": "stderr",
     "output_type": "stream",
     "text": [
      "c:\\users\\jijun\\appdata\\local\\continuum\\miniconda2\\lib\\site-packages\\ipykernel_launcher.py:4: SettingWithCopyWarning: \n",
      "A value is trying to be set on a copy of a slice from a DataFrame.\n",
      "Try using .loc[row_indexer,col_indexer] = value instead\n",
      "\n",
      "See the caveats in the documentation: http://pandas.pydata.org/pandas-docs/stable/indexing.html#indexing-view-versus-copy\n",
      "  after removing the cwd from sys.path.\n",
      "c:\\users\\jijun\\appdata\\local\\continuum\\miniconda2\\lib\\site-packages\\ipykernel_launcher.py:5: SettingWithCopyWarning: \n",
      "A value is trying to be set on a copy of a slice from a DataFrame.\n",
      "Try using .loc[row_indexer,col_indexer] = value instead\n",
      "\n",
      "See the caveats in the documentation: http://pandas.pydata.org/pandas-docs/stable/indexing.html#indexing-view-versus-copy\n",
      "  \"\"\"\n",
      "c:\\users\\jijun\\appdata\\local\\continuum\\miniconda2\\lib\\site-packages\\ipykernel_launcher.py:6: SettingWithCopyWarning: \n",
      "A value is trying to be set on a copy of a slice from a DataFrame.\n",
      "Try using .loc[row_indexer,col_indexer] = value instead\n",
      "\n",
      "See the caveats in the documentation: http://pandas.pydata.org/pandas-docs/stable/indexing.html#indexing-view-versus-copy\n",
      "  \n",
      "c:\\users\\jijun\\appdata\\local\\continuum\\miniconda2\\lib\\site-packages\\ipykernel_launcher.py:7: SettingWithCopyWarning: \n",
      "A value is trying to be set on a copy of a slice from a DataFrame.\n",
      "Try using .loc[row_indexer,col_indexer] = value instead\n",
      "\n",
      "See the caveats in the documentation: http://pandas.pydata.org/pandas-docs/stable/indexing.html#indexing-view-versus-copy\n",
      "  import sys\n"
     ]
    }
   ],
   "source": [
    "# Since MetalLevel is ordinal variable, I assign corresponding number to each level\n",
    "# Catastrophic is 1, Bronze is 2, Silver is 3, Gold is 4\n",
    "df_AK['MetalLevel'].value_counts()\n",
    "df_AK['MetalLevel'] = df_AK['MetalLevel'].str.replace('Catastrophic','1')\n",
    "df_AK['MetalLevel'] = df_AK['MetalLevel'].str.replace('Bronze','2')\n",
    "df_AK['MetalLevel'] = df_AK['MetalLevel'].str.replace('Silver','3')\n",
    "df_AK['MetalLevel'] = df_AK['MetalLevel'].str.replace('Gold','4')"
   ]
  },
  {
   "cell_type": "code",
   "execution_count": 7,
   "metadata": {},
   "outputs": [
    {
     "name": "stderr",
     "output_type": "stream",
     "text": [
      "c:\\users\\jijun\\appdata\\local\\continuum\\miniconda2\\lib\\site-packages\\ipykernel_launcher.py:1: SettingWithCopyWarning: \n",
      "A value is trying to be set on a copy of a slice from a DataFrame.\n",
      "Try using .loc[row_indexer,col_indexer] = value instead\n",
      "\n",
      "See the caveats in the documentation: http://pandas.pydata.org/pandas-docs/stable/indexing.html#indexing-view-versus-copy\n",
      "  \"\"\"Entry point for launching an IPython kernel.\n"
     ]
    }
   ],
   "source": [
    "df_AK['MetalLevel']= pd.to_numeric(df_AK['MetalLevel'])"
   ]
  },
  {
   "cell_type": "code",
   "execution_count": 8,
   "metadata": {},
   "outputs": [
    {
     "data": {
      "text/plain": [
       "Rating Area 1    10948\n",
       "Rating Area 2    10948\n",
       "Rating Area 3    10948\n",
       "Name: RatingAreaId, dtype: int64"
      ]
     },
     "execution_count": 8,
     "metadata": {},
     "output_type": "execute_result"
    }
   ],
   "source": [
    "df_AK['RatingAreaId'].value_counts()"
   ]
  },
  {
   "cell_type": "code",
   "execution_count": 9,
   "metadata": {},
   "outputs": [
    {
     "name": "stdout",
     "output_type": "stream",
     "text": [
      "RatingAreaId\n",
      "Rating Area 3    702.231239\n",
      "Rating Area 2    711.446529\n",
      "Rating Area 1    716.058239\n",
      "Name: IndividualRate, dtype: float64\n"
     ]
    }
   ],
   "source": [
    "# Calculate mean individualrate for three rating areas in AK. \n",
    "# They are very close to each other. I am going to use RatingAreaId as category variable.\n",
    "\n",
    "grp1 = df_AK.groupby('RatingAreaId').mean()\n",
    "grp1 = grp1.sort_values('IndividualRate', ascending=True)\n",
    "print(grp1.IndividualRate)"
   ]
  },
  {
   "cell_type": "code",
   "execution_count": 10,
   "metadata": {},
   "outputs": [
    {
     "name": "stdout",
     "output_type": "stream",
     "text": [
      "   Rating Area 1  Rating Area 2  Rating Area 3\n",
      "0              1              0              0\n",
      "1              1              0              0\n",
      "2              1              0              0\n",
      "3              1              0              0\n",
      "4              1              0              0\n"
     ]
    },
    {
     "name": "stderr",
     "output_type": "stream",
     "text": [
      "c:\\users\\jijun\\appdata\\local\\continuum\\miniconda2\\lib\\site-packages\\ipykernel_launcher.py:1: SettingWithCopyWarning: \n",
      "A value is trying to be set on a copy of a slice from a DataFrame.\n",
      "Try using .loc[row_indexer,col_indexer] = value instead\n",
      "\n",
      "See the caveats in the documentation: http://pandas.pydata.org/pandas-docs/stable/indexing.html#indexing-view-versus-copy\n",
      "  \"\"\"Entry point for launching an IPython kernel.\n"
     ]
    }
   ],
   "source": [
    "df_AK['RatingAreaId'] = df_AK['RatingAreaId'].astype('category')\n",
    "dummy = pd.get_dummies(df_AK['RatingAreaId'])\n",
    "print(dummy.head())"
   ]
  },
  {
   "cell_type": "code",
   "execution_count": 11,
   "metadata": {},
   "outputs": [
    {
     "data": {
      "text/html": [
       "<div>\n",
       "<style scoped>\n",
       "    .dataframe tbody tr th:only-of-type {\n",
       "        vertical-align: middle;\n",
       "    }\n",
       "\n",
       "    .dataframe tbody tr th {\n",
       "        vertical-align: top;\n",
       "    }\n",
       "\n",
       "    .dataframe thead th {\n",
       "        text-align: right;\n",
       "    }\n",
       "</style>\n",
       "<table border=\"1\" class=\"dataframe\">\n",
       "  <thead>\n",
       "    <tr style=\"text-align: right;\">\n",
       "      <th></th>\n",
       "      <th>StateCode</th>\n",
       "      <th>RatingAreaId</th>\n",
       "      <th>Age</th>\n",
       "      <th>MetalLevel</th>\n",
       "      <th>IndividualRate</th>\n",
       "      <th>Rating Area 1</th>\n",
       "      <th>Rating Area 2</th>\n",
       "      <th>Rating Area 3</th>\n",
       "    </tr>\n",
       "  </thead>\n",
       "  <tbody>\n",
       "    <tr>\n",
       "      <th>0</th>\n",
       "      <td>AK</td>\n",
       "      <td>Rating Area 1</td>\n",
       "      <td>20</td>\n",
       "      <td>4</td>\n",
       "      <td>333.10</td>\n",
       "      <td>1</td>\n",
       "      <td>0</td>\n",
       "      <td>0</td>\n",
       "    </tr>\n",
       "    <tr>\n",
       "      <th>1</th>\n",
       "      <td>AK</td>\n",
       "      <td>Rating Area 1</td>\n",
       "      <td>20</td>\n",
       "      <td>4</td>\n",
       "      <td>337.63</td>\n",
       "      <td>1</td>\n",
       "      <td>0</td>\n",
       "      <td>0</td>\n",
       "    </tr>\n",
       "    <tr>\n",
       "      <th>2</th>\n",
       "      <td>AK</td>\n",
       "      <td>Rating Area 1</td>\n",
       "      <td>20</td>\n",
       "      <td>4</td>\n",
       "      <td>342.22</td>\n",
       "      <td>1</td>\n",
       "      <td>0</td>\n",
       "      <td>0</td>\n",
       "    </tr>\n",
       "    <tr>\n",
       "      <th>3</th>\n",
       "      <td>AK</td>\n",
       "      <td>Rating Area 1</td>\n",
       "      <td>20</td>\n",
       "      <td>4</td>\n",
       "      <td>346.87</td>\n",
       "      <td>1</td>\n",
       "      <td>0</td>\n",
       "      <td>0</td>\n",
       "    </tr>\n",
       "    <tr>\n",
       "      <th>4</th>\n",
       "      <td>AK</td>\n",
       "      <td>Rating Area 1</td>\n",
       "      <td>20</td>\n",
       "      <td>2</td>\n",
       "      <td>209.00</td>\n",
       "      <td>1</td>\n",
       "      <td>0</td>\n",
       "      <td>0</td>\n",
       "    </tr>\n",
       "  </tbody>\n",
       "</table>\n",
       "</div>"
      ],
      "text/plain": [
       "  StateCode   RatingAreaId  Age  MetalLevel  IndividualRate  Rating Area 1  \\\n",
       "0        AK  Rating Area 1   20           4          333.10              1   \n",
       "1        AK  Rating Area 1   20           4          337.63              1   \n",
       "2        AK  Rating Area 1   20           4          342.22              1   \n",
       "3        AK  Rating Area 1   20           4          346.87              1   \n",
       "4        AK  Rating Area 1   20           2          209.00              1   \n",
       "\n",
       "   Rating Area 2  Rating Area 3  \n",
       "0              0              0  \n",
       "1              0              0  \n",
       "2              0              0  \n",
       "3              0              0  \n",
       "4              0              0  "
      ]
     },
     "execution_count": 11,
     "metadata": {},
     "output_type": "execute_result"
    }
   ],
   "source": [
    "# Merge df_AK with dummy dataframe\n",
    "df_AK = pd.concat([df_AK, dummy], axis = 1) \n",
    "df_AK.head()"
   ]
  },
  {
   "cell_type": "code",
   "execution_count": 12,
   "metadata": {},
   "outputs": [
    {
     "name": "stdout",
     "output_type": "stream",
     "text": [
      "<class 'pandas.core.frame.DataFrame'>\n",
      "Int64Index: 32844 entries, 0 to 1935219\n",
      "Data columns (total 8 columns):\n",
      "StateCode         32844 non-null object\n",
      "RatingAreaId      32844 non-null category\n",
      "Age               32844 non-null int64\n",
      "MetalLevel        32844 non-null int64\n",
      "IndividualRate    32844 non-null float64\n",
      "Rating Area 1     32844 non-null uint8\n",
      "Rating Area 2     32844 non-null uint8\n",
      "Rating Area 3     32844 non-null uint8\n",
      "dtypes: category(1), float64(1), int64(2), object(1), uint8(3)\n",
      "memory usage: 1.4+ MB\n"
     ]
    }
   ],
   "source": [
    "df_AK.info()"
   ]
  },
  {
   "cell_type": "code",
   "execution_count": 13,
   "metadata": {},
   "outputs": [
    {
     "data": {
      "text/plain": [
       "Index([u'StateCode', u'RatingAreaId', u'Age', u'MetalLevel', u'IndividualRate',\n",
       "       u'Rating Area 1', u'Rating Area 2', u'Rating Area 3'],\n",
       "      dtype='object')"
      ]
     },
     "execution_count": 13,
     "metadata": {},
     "output_type": "execute_result"
    }
   ],
   "source": [
    "df_AK.keys()"
   ]
  },
  {
   "cell_type": "code",
   "execution_count": 14,
   "metadata": {},
   "outputs": [],
   "source": [
    "# import modules for machine learning\n",
    "\n",
    "%matplotlib inline \n",
    "import numpy as np\n",
    "import scipy.stats as stats\n",
    "import matplotlib.pyplot as plt\n",
    "import sklearn\n",
    "import seaborn as sns\n",
    "from sklearn.model_selection import train_test_split \n",
    "from sklearn.linear_model import LinearRegression\n",
    "from sklearn.metrics import mean_squared_error"
   ]
  },
  {
   "cell_type": "code",
   "execution_count": 15,
   "metadata": {},
   "outputs": [],
   "source": [
    "X = df_AK[['Age', 'MetalLevel', 'Rating Area 1', 'Rating Area 2', 'Rating Area 3']].values\n",
    "y = df_AK['IndividualRate'].values"
   ]
  },
  {
   "cell_type": "code",
   "execution_count": 16,
   "metadata": {},
   "outputs": [],
   "source": [
    "# Split into training and test sets\n",
    "\n",
    "X_train, X_test, y_train, y_test = train_test_split(X, y, test_size = 0.2, random_state=123)"
   ]
  },
  {
   "cell_type": "code",
   "execution_count": 17,
   "metadata": {},
   "outputs": [
    {
     "name": "stdout",
     "output_type": "stream",
     "text": [
      "R^2: 0.831725963519\n",
      "Root Mean Squared Error: 128.943977051\n"
     ]
    }
   ],
   "source": [
    "# Create the regressor: reg_all\n",
    "reg_all = LinearRegression()\n",
    "\n",
    "# Fit the regressor to the training data\n",
    "reg_all.fit(X_train, y_train)\n",
    "\n",
    "# Predict on the test data: y_pred\n",
    "y_pred = reg_all.predict(X_test)\n",
    "\n",
    "# Compute and print R^2 and RMSE\n",
    "print(\"R^2: {}\".format(reg_all.score(X_test, y_test)))\n",
    "rmse = np.sqrt(mean_squared_error(y_test, y_pred))\n",
    "print(\"Root Mean Squared Error: {}\".format(rmse))"
   ]
  }
 ],
 "metadata": {
  "kernelspec": {
   "display_name": "Python 2",
   "language": "python",
   "name": "python2"
  },
  "language_info": {
   "codemirror_mode": {
    "name": "ipython",
    "version": 2
   },
   "file_extension": ".py",
   "mimetype": "text/x-python",
   "name": "python",
   "nbconvert_exporter": "python",
   "pygments_lexer": "ipython2",
   "version": "2.7.15"
  }
 },
 "nbformat": 4,
 "nbformat_minor": 2
}
